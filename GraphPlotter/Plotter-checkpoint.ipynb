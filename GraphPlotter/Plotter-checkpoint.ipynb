{
 "cells": [
  {
   "cell_type": "code",
   "execution_count": null,
   "metadata": {},
   "outputs": [],
   "source": [
    "import numpy as np\n",
    "import pandas as pd\n",
    "import plotly.plotly as pl\n",
    "import plotly.offline as po\n",
    "import cufflinks as cf"
   ]
  },
  {
   "cell_type": "code",
   "execution_count": null,
   "metadata": {},
   "outputs": [],
   "source": [
    "po.init_notebook_mode(connected = True)\n",
    "cf.go_offline()"
   ]
  },
  {
   "cell_type": "code",
   "execution_count": null,
   "metadata": {},
   "outputs": [],
   "source": [
    "def createdata(data):\n",
    "    if data==1:\n",
    "        x=np.random.rand(100,5)\n",
    "        df1=pd.DataFrame(x,columns=[\"A\",\"B\",\"C\",\"D\",\"E\"])\n",
    "    elif data==2:\n",
    "        col=[0,0,0,0,0]\n",
    "        r1=[0,0,0,0,0]\n",
    "        r2=[0,0,0,0,0]\n",
    "        r3=[0,0,0,0,0]\n",
    "        r4=[0,0,0,0,0]\n",
    "        print(\"Enter The Values For Columns:\")\n",
    "        for i in range(5):\n",
    "            col[i]=input(\"Enter for Column %d:\"%i)\n",
    "            \n",
    "        print(\"Enter The Values For Row 1:\")\n",
    "        for i in range(5):\n",
    "            r1[i]=int(input(\"Enter for place %d:\"%i))\n",
    "            \n",
    "        print(\"Enter The Values For Row 2:\")\n",
    "        for i in range(5):\n",
    "            r2[i]=int(input(\"Enter for place %d:\"%i))\n",
    "            \n",
    "        print(\"Enter The Values For Row 3:\")\n",
    "        for i in range(5):\n",
    "            r3[i]=int(input(\"Enter for place %d:\"%i))\n",
    "            \n",
    "        print(\"Enter The Values For Row 4:\")\n",
    "        for i in range(5):\n",
    "            r4[i]=int(input(\"Enter for place %d:\"%i))\n",
    "            \n",
    "        df1=pd.DataFrame([r1,r2,r3,r4],columns=col)\n",
    "        \n",
    "    elif data==3:\n",
    "        file=input(\"Enter the file name:\")\n",
    "        x=pd.read_csv(file)\n",
    "        df1=pd.DataFrame(x)\n",
    "        \n",
    "    else:\n",
    "        print(\"DataFrame creation failed! Invalid Choice\")\n",
    "        \n",
    "    return df1"
   ]
  },
  {
   "cell_type": "code",
   "execution_count": null,
   "metadata": {},
   "outputs": [],
   "source": [
    "def plotter(plot):\n",
    "    if plot==1:\n",
    "        final_plot=df1.iplot(kind=\"scatter\")\n",
    "    elif plot==2:\n",
    "        final_plot=df1.iplot(kind=\"scatter\",mode=\"markers\",symbol=\"x\",colorscale=\"paired\")\n",
    "    elif plot==3:\n",
    "        final_plot=df1.iplot(kind=\"bar\")\n",
    "    elif plot==4:\n",
    "        final_plot=df1.iplot(kind=\"hist\")\n",
    "    elif plot==5:\n",
    "        final_plot=df1.iplot(kind=\"box\")\n",
    "    elif plot==6:\n",
    "        final_plot=df1.iplot(kind=\"surface\")\n",
    "    else:\n",
    "        final_plot=print(\"Enter Only Between 1 to 6\")\n",
    "    return final_plot"
   ]
  },
  {
   "cell_type": "code",
   "execution_count": null,
   "metadata": {},
   "outputs": [],
   "source": [
    "def plotter2(plot):\n",
    "    col=int(input(\"Enter Number of columns you want to plot(1,2 or 3):\"))\n",
    "    if col==1:\n",
    "        name=input(\"Enter the name of the column you want to plot from the dataframe head:\")\n",
    "        if plot==1:\n",
    "            final_plot=df1[name].iplot(kind=\"scatter\")\n",
    "        elif plot==2:\n",
    "            final_plot=df1[name].iplot(kind=\"scatter\",mode=\"markers\",colorscale=\"paired\")\n",
    "        elif plot==3:\n",
    "            final_plot=df1[name].iplot(kind=\"bar\")\n",
    "        elif plot==4:\n",
    "            final_plot=df1[name].iplot(kind=\"hist\")\n",
    "        elif plot==5:\n",
    "            final_plot=df1[name].iplot(kind=\"box\")\n",
    "        elif plot==6 or plot==7:\n",
    "            final_plot=print(\"Bubble Plot and Surface Plot require more than one argument\")\n",
    "        else:\n",
    "            final_plot=print(\"Invalid Input\")\n",
    "            \n",
    "    elif col==2:\n",
    "        name=print(\"Enter the name of the columns you want to plot from the dataframe head:\")\n",
    "        x=input(\"First Column:\")\n",
    "        y=input(\"Second Column:\")\n",
    "        if plot==1:\n",
    "            final_plot=df1[[x,y]].iplot(kind=\"scatter\")\n",
    "        elif plot==2:\n",
    "            final_plot=df1[[x,y]].iplot(kind=\"scatter\",mode=\"markers\",colorscale=\"paired\")\n",
    "        elif plot==3:\n",
    "            final_plot=df1[[x,y]].iplot(kind=\"bar\")\n",
    "        elif plot==4:\n",
    "            final_plot=df1[[x,y]].iplot(kind=\"hist\")\n",
    "        elif plot==5:\n",
    "            final_plot=df1[[x,y]].iplot(kind=\"box\")\n",
    "        elif plot==6:\n",
    "            final_plot=df1[[x,y]].iplot(kind=\"surface\")\n",
    "        elif plot==7:\n",
    "            size=(input(\"Enter the size column for bubble plot:\"))\n",
    "            final_plot=df1.iplot(kind=\"bubble\",x=x,y=y,size=size)\n",
    "        else:\n",
    "            final_plot=print(\"Invalid Input\")\n",
    "            \n",
    "    elif col==3:\n",
    "        name=print(\"Enter the name of the columns you want to plot from the dataframe head:\")\n",
    "        x=input(\"First Column:\")\n",
    "        y=input(\"Second Column:\")\n",
    "        z=input(\"Third Column:\")\n",
    "        if plot==1:\n",
    "            final_plot=df1[[x,y,z]].iplot(kind=\"scatter\")\n",
    "        elif plot==2:\n",
    "            final_plot=df1[[x,y,z]].iplot(kind=\"scatter\",mode=\"markers\",colorscale=\"paired\")\n",
    "        elif plot==3:\n",
    "            final_plot=df1[[x,y,z]].iplot(kind=\"bar\")\n",
    "        elif plot==4:\n",
    "            final_plot=df1[[x,y,z]].iplot(kind=\"hist\")\n",
    "        elif plot==5:\n",
    "            final_plot=df1[[x,y,z]].iplot(kind=\"box\")\n",
    "        elif plot==6:\n",
    "            final_plot=df1[[x,y,z]].iplot(kind=\"surface\")\n",
    "        elif plot==7:\n",
    "            size=(input(\"Enter the size column for bubble plot:\"))\n",
    "            final_plot=df1.iplot(kind=\"bubble\",x=x,y=y,z=z,size=size)\n",
    "        else:\n",
    "            final_plot=print(\"Invalid Input\")\n",
    "    else:\n",
    "        final_plot=print(\"Error!Invalid Input\")\n",
    "        \n",
    "    return final_plot"
   ]
  },
  {
   "cell_type": "code",
   "execution_count": null,
   "metadata": {},
   "outputs": [],
   "source": [
    "def main(cat):\n",
    "    if cat==1:\n",
    "        print(\"Select the type of plot you want\")\n",
    "        print(\"1.Line Plot\")\n",
    "        print(\"2.Scatter Plot\")\n",
    "        print(\"3.Bar Plot\")\n",
    "        print(\"4.Histogram\")\n",
    "        print(\"5.Box Plot\")\n",
    "        print(\"6.Surface Plot\")\n",
    "        plot=int(input(\"Enter Your Choice:\"))\n",
    "        output=plotter(plot)\n",
    "    elif cat==2:\n",
    "        print(\"Select the type of plot you want\")\n",
    "        print(\"1.Line Plot\")\n",
    "        print(\"2.Scatter Plot\")\n",
    "        print(\"3.Bar Plot\")\n",
    "        print(\"4.Histogram\")\n",
    "        print(\"5.Box Plot\")\n",
    "        print(\"6.Surface Plot\")\n",
    "        print(\"7.Bubble Plot\")\n",
    "        plot=int(input(\"Enter Your Choice:\"))\n",
    "        output=plotter2(plot)\n",
    "    else:\n",
    "        print(\"Error! Invalid Choice\")"
   ]
  },
  {
   "cell_type": "code",
   "execution_count": null,
   "metadata": {},
   "outputs": [],
   "source": [
    "print(\"Select The type of data you want to plot(1,2 or 3)\")\n",
    "print(\"1.Random Data with 100 rows and 5 columns\")\n",
    "print(\"2.Customized DataFrame with 4 rows and 5 columns\")\n",
    "print(\"3.Upload csv/json/txt file \")\n",
    "data=int(input(\"Enter Your Choice:\"))\n",
    "df1=createdata(data)"
   ]
  },
  {
   "cell_type": "code",
   "execution_count": null,
   "metadata": {},
   "outputs": [],
   "source": []
  },
  {
   "cell_type": "code",
   "execution_count": null,
   "metadata": {},
   "outputs": [],
   "source": [
    "print(\"Your DataFrame is given below please check the columns to plot using cufflinks\")\n",
    "df1.head()"
   ]
  },
  {
   "cell_type": "code",
   "execution_count": null,
   "metadata": {},
   "outputs": [],
   "source": []
  },
  {
   "cell_type": "code",
   "execution_count": null,
   "metadata": {},
   "outputs": [],
   "source": [
    "print(\"What kind of plot you need: the complete data plot or column plot\")\n",
    "cat=int(input(\"Choose 1 for All data plot or Choose 2 for specifying columns:\"))"
   ]
  },
  {
   "cell_type": "code",
   "execution_count": null,
   "metadata": {},
   "outputs": [],
   "source": []
  },
  {
   "cell_type": "code",
   "execution_count": null,
   "metadata": {},
   "outputs": [],
   "source": [
    "main(cat)"
   ]
  },
  {
   "cell_type": "code",
   "execution_count": null,
   "metadata": {},
   "outputs": [],
   "source": []
  },
  {
   "cell_type": "code",
   "execution_count": null,
   "metadata": {},
   "outputs": [],
   "source": []
  },
  {
   "cell_type": "code",
   "execution_count": null,
   "metadata": {},
   "outputs": [],
   "source": []
  },
  {
   "cell_type": "code",
   "execution_count": null,
   "metadata": {},
   "outputs": [],
   "source": []
  }
 ],
 "metadata": {
  "kernelspec": {
   "display_name": "Python 3",
   "language": "python",
   "name": "python3"
  },
  "language_info": {
   "codemirror_mode": {
    "name": "ipython",
    "version": 3
   },
   "file_extension": ".py",
   "mimetype": "text/x-python",
   "name": "python",
   "nbconvert_exporter": "python",
   "pygments_lexer": "ipython3",
   "version": "3.7.4"
  }
 },
 "nbformat": 4,
 "nbformat_minor": 2
}
